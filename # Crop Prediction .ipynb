{
 "cells": [
  {
   "cell_type": "markdown",
   "id": "da6508af",
   "metadata": {},
   "source": [
    "# Crop Prediction "
   ]
  },
  {
   "cell_type": "markdown",
   "id": "4e0c8a59",
   "metadata": {},
   "source": [
    "The system will select the best crop for cultivation based on predicted rainfall, soil content, and weather parameters. \n",
    "\n",
    "This system also shows the required seed for cultivation in Kg per acre for the recommended crop, as well as details about required fertilizer such as nitrogen (N), phosphorus (P), and potassium (K) in Kg per hectare. \n",
    "\n",
    "Other features of this method include displaying the current market price and the projected yield in quintals per acre for the chosen crop. All of these facts will aid farmers in selecting the most profitable crop."
   ]
  },
  {
   "cell_type": "markdown",
   "id": "65309e4a",
   "metadata": {},
   "source": [
    "\n",
    "\n",
    "\n",
    "Crop prediction is a critical responsibility for decision-makers at the national and regional levels in order to make quick decisions.\n",
    "\n",
    "Farmers can use an accurate crop production prediction model to assist them determine what to grow and when to grow it. The \n",
    "\n",
    "following 21 crops are included in the dataset:\n",
    " ['rice', 'maize', 'chickpea', 'kidneybeans', 'pigeonpeas', 'mothbeans', 'mungbean', 'blackgram', 'lentil', 'pomegranate', 'banana', 'mango', 'grapes', 'watermelon', 'muskmelon', 'apple', 'orange', 'papaya', 'coconut', 'cotton', 'jute', 'coffee']"
   ]
  },
  {
   "cell_type": "code",
   "execution_count": 2,
   "id": "92374a53",
   "metadata": {},
   "outputs": [],
   "source": [
    "import pandas as pd \n",
    "\n",
    "#matplotlib\n",
    "import matplotlib.pyplot as plt \n",
    "\n",
    "#seaborn\n",
    "import seaborn as sns\n",
    "\n",
    "#numpy\n",
    "import numpy as np,os\n",
    "\n",
    "#sklearn\n",
    "from sklearn.metrics import confusion_matrix,classification_report\n",
    "from sklearn.linear_model import LogisticRegression\n",
    "from sklearn.ensemble import RandomForestClassifier\n",
    "from sklearn.svm import SVC\n",
    "from sklearn.preprocessing import StandardScaler\n",
    "from sklearn.model_selection import train_test_split"
   ]
  },
  {
   "cell_type": "code",
   "execution_count": 3,
   "id": "7611e6e1",
   "metadata": {},
   "outputs": [],
   "source": [
    "os.chdir('C:\\Machine Learning\\Raw Data')"
   ]
  },
  {
   "cell_type": "code",
   "execution_count": 5,
   "id": "48141446",
   "metadata": {},
   "outputs": [
    {
     "data": {
      "text/plain": [
       "['Bigmart_sale_test.csv',\n",
       " 'Bigmart_sale_train.csv',\n",
       " 'Crop_recommendation.csv',\n",
       " 'random_forest_regression_model.pkl']"
      ]
     },
     "execution_count": 5,
     "metadata": {},
     "output_type": "execute_result"
    }
   ],
   "source": [
    "os.listdir()"
   ]
  },
  {
   "cell_type": "code",
   "execution_count": 6,
   "id": "4c10a001",
   "metadata": {},
   "outputs": [],
   "source": [
    "crop_data=pd.read_csv('Crop_recommendation.csv')"
   ]
  },
  {
   "cell_type": "code",
   "execution_count": 7,
   "id": "96fffd31",
   "metadata": {},
   "outputs": [
    {
     "data": {
      "text/html": [
       "<div>\n",
       "<style scoped>\n",
       "    .dataframe tbody tr th:only-of-type {\n",
       "        vertical-align: middle;\n",
       "    }\n",
       "\n",
       "    .dataframe tbody tr th {\n",
       "        vertical-align: top;\n",
       "    }\n",
       "\n",
       "    .dataframe thead th {\n",
       "        text-align: right;\n",
       "    }\n",
       "</style>\n",
       "<table border=\"1\" class=\"dataframe\">\n",
       "  <thead>\n",
       "    <tr style=\"text-align: right;\">\n",
       "      <th></th>\n",
       "      <th>N</th>\n",
       "      <th>P</th>\n",
       "      <th>K</th>\n",
       "      <th>temperature</th>\n",
       "      <th>humidity</th>\n",
       "      <th>ph</th>\n",
       "      <th>rainfall</th>\n",
       "      <th>label</th>\n",
       "    </tr>\n",
       "  </thead>\n",
       "  <tbody>\n",
       "    <tr>\n",
       "      <th>0</th>\n",
       "      <td>90</td>\n",
       "      <td>42</td>\n",
       "      <td>43</td>\n",
       "      <td>20.879744</td>\n",
       "      <td>82.002744</td>\n",
       "      <td>6.502985</td>\n",
       "      <td>202.935536</td>\n",
       "      <td>rice</td>\n",
       "    </tr>\n",
       "    <tr>\n",
       "      <th>1</th>\n",
       "      <td>85</td>\n",
       "      <td>58</td>\n",
       "      <td>41</td>\n",
       "      <td>21.770462</td>\n",
       "      <td>80.319644</td>\n",
       "      <td>7.038096</td>\n",
       "      <td>226.655537</td>\n",
       "      <td>rice</td>\n",
       "    </tr>\n",
       "    <tr>\n",
       "      <th>2</th>\n",
       "      <td>60</td>\n",
       "      <td>55</td>\n",
       "      <td>44</td>\n",
       "      <td>23.004459</td>\n",
       "      <td>82.320763</td>\n",
       "      <td>7.840207</td>\n",
       "      <td>263.964248</td>\n",
       "      <td>rice</td>\n",
       "    </tr>\n",
       "    <tr>\n",
       "      <th>3</th>\n",
       "      <td>74</td>\n",
       "      <td>35</td>\n",
       "      <td>40</td>\n",
       "      <td>26.491096</td>\n",
       "      <td>80.158363</td>\n",
       "      <td>6.980401</td>\n",
       "      <td>242.864034</td>\n",
       "      <td>rice</td>\n",
       "    </tr>\n",
       "    <tr>\n",
       "      <th>4</th>\n",
       "      <td>78</td>\n",
       "      <td>42</td>\n",
       "      <td>42</td>\n",
       "      <td>20.130175</td>\n",
       "      <td>81.604873</td>\n",
       "      <td>7.628473</td>\n",
       "      <td>262.717340</td>\n",
       "      <td>rice</td>\n",
       "    </tr>\n",
       "  </tbody>\n",
       "</table>\n",
       "</div>"
      ],
      "text/plain": [
       "    N   P   K  temperature   humidity        ph    rainfall label\n",
       "0  90  42  43    20.879744  82.002744  6.502985  202.935536  rice\n",
       "1  85  58  41    21.770462  80.319644  7.038096  226.655537  rice\n",
       "2  60  55  44    23.004459  82.320763  7.840207  263.964248  rice\n",
       "3  74  35  40    26.491096  80.158363  6.980401  242.864034  rice\n",
       "4  78  42  42    20.130175  81.604873  7.628473  262.717340  rice"
      ]
     },
     "execution_count": 7,
     "metadata": {},
     "output_type": "execute_result"
    }
   ],
   "source": [
    "crop_data.head()"
   ]
  },
  {
   "cell_type": "code",
   "execution_count": 9,
   "id": "374789f1",
   "metadata": {},
   "outputs": [
    {
     "data": {
      "text/plain": [
       "(2200, 8)"
      ]
     },
     "execution_count": 9,
     "metadata": {},
     "output_type": "execute_result"
    }
   ],
   "source": [
    "crop_data.shape"
   ]
  },
  {
   "cell_type": "markdown",
   "id": "1bf5c7c2",
   "metadata": {},
   "source": [
    "data set conatins 2200 records and 8 columns"
   ]
  },
  {
   "cell_type": "markdown",
   "id": "6be04fdb",
   "metadata": {},
   "source": [
    "#### Dtypes in Data set"
   ]
  },
  {
   "cell_type": "code",
   "execution_count": 10,
   "id": "e65f649b",
   "metadata": {},
   "outputs": [
    {
     "name": "stdout",
     "output_type": "stream",
     "text": [
      "<class 'pandas.core.frame.DataFrame'>\n",
      "RangeIndex: 2200 entries, 0 to 2199\n",
      "Data columns (total 8 columns):\n",
      " #   Column       Non-Null Count  Dtype  \n",
      "---  ------       --------------  -----  \n",
      " 0   N            2200 non-null   int64  \n",
      " 1   P            2200 non-null   int64  \n",
      " 2   K            2200 non-null   int64  \n",
      " 3   temperature  2200 non-null   float64\n",
      " 4   humidity     2200 non-null   float64\n",
      " 5   ph           2200 non-null   float64\n",
      " 6   rainfall     2200 non-null   float64\n",
      " 7   label        2200 non-null   object \n",
      "dtypes: float64(4), int64(3), object(1)\n",
      "memory usage: 137.6+ KB\n"
     ]
    }
   ],
   "source": [
    "crop_data.info()"
   ]
  },
  {
   "cell_type": "markdown",
   "id": "0b859e3d",
   "metadata": {},
   "source": [
    "#### checking null values "
   ]
  },
  {
   "cell_type": "code",
   "execution_count": 11,
   "id": "59d6a845",
   "metadata": {},
   "outputs": [
    {
     "data": {
      "text/plain": [
       "N              0\n",
       "P              0\n",
       "K              0\n",
       "temperature    0\n",
       "humidity       0\n",
       "ph             0\n",
       "rainfall       0\n",
       "label          0\n",
       "dtype: int64"
      ]
     },
     "execution_count": 11,
     "metadata": {},
     "output_type": "execute_result"
    }
   ],
   "source": [
    "crop_data.isnull().sum()"
   ]
  },
  {
   "cell_type": "markdown",
   "id": "79eb0508",
   "metadata": {},
   "source": [
    "There are no null values present in our dataset."
   ]
  },
  {
   "cell_type": "code",
   "execution_count": 85,
   "id": "a419885b",
   "metadata": {},
   "outputs": [],
   "source": [
    "crop_data['no_label'] = pd.Categorical(crop_data.label).codes"
   ]
  },
  {
   "cell_type": "code",
   "execution_count": 18,
   "id": "61a35b8d",
   "metadata": {},
   "outputs": [
    {
     "data": {
      "text/html": [
       "<div>\n",
       "<style scoped>\n",
       "    .dataframe tbody tr th:only-of-type {\n",
       "        vertical-align: middle;\n",
       "    }\n",
       "\n",
       "    .dataframe tbody tr th {\n",
       "        vertical-align: top;\n",
       "    }\n",
       "\n",
       "    .dataframe thead th {\n",
       "        text-align: right;\n",
       "    }\n",
       "</style>\n",
       "<table border=\"1\" class=\"dataframe\">\n",
       "  <thead>\n",
       "    <tr style=\"text-align: right;\">\n",
       "      <th></th>\n",
       "      <th>N</th>\n",
       "      <th>P</th>\n",
       "      <th>K</th>\n",
       "      <th>temperature</th>\n",
       "      <th>humidity</th>\n",
       "      <th>ph</th>\n",
       "      <th>rainfall</th>\n",
       "      <th>label</th>\n",
       "      <th>no_label</th>\n",
       "    </tr>\n",
       "  </thead>\n",
       "  <tbody>\n",
       "    <tr>\n",
       "      <th>2195</th>\n",
       "      <td>107</td>\n",
       "      <td>34</td>\n",
       "      <td>32</td>\n",
       "      <td>26.774637</td>\n",
       "      <td>66.413269</td>\n",
       "      <td>6.780064</td>\n",
       "      <td>177.774507</td>\n",
       "      <td>coffee</td>\n",
       "      <td>5</td>\n",
       "    </tr>\n",
       "    <tr>\n",
       "      <th>2196</th>\n",
       "      <td>99</td>\n",
       "      <td>15</td>\n",
       "      <td>27</td>\n",
       "      <td>27.417112</td>\n",
       "      <td>56.636362</td>\n",
       "      <td>6.086922</td>\n",
       "      <td>127.924610</td>\n",
       "      <td>coffee</td>\n",
       "      <td>5</td>\n",
       "    </tr>\n",
       "    <tr>\n",
       "      <th>2197</th>\n",
       "      <td>118</td>\n",
       "      <td>33</td>\n",
       "      <td>30</td>\n",
       "      <td>24.131797</td>\n",
       "      <td>67.225123</td>\n",
       "      <td>6.362608</td>\n",
       "      <td>173.322839</td>\n",
       "      <td>coffee</td>\n",
       "      <td>5</td>\n",
       "    </tr>\n",
       "    <tr>\n",
       "      <th>2198</th>\n",
       "      <td>117</td>\n",
       "      <td>32</td>\n",
       "      <td>34</td>\n",
       "      <td>26.272418</td>\n",
       "      <td>52.127394</td>\n",
       "      <td>6.758793</td>\n",
       "      <td>127.175293</td>\n",
       "      <td>coffee</td>\n",
       "      <td>5</td>\n",
       "    </tr>\n",
       "    <tr>\n",
       "      <th>2199</th>\n",
       "      <td>104</td>\n",
       "      <td>18</td>\n",
       "      <td>30</td>\n",
       "      <td>23.603016</td>\n",
       "      <td>60.396475</td>\n",
       "      <td>6.779833</td>\n",
       "      <td>140.937041</td>\n",
       "      <td>coffee</td>\n",
       "      <td>5</td>\n",
       "    </tr>\n",
       "  </tbody>\n",
       "</table>\n",
       "</div>"
      ],
      "text/plain": [
       "        N   P   K  temperature   humidity        ph    rainfall   label  \\\n",
       "2195  107  34  32    26.774637  66.413269  6.780064  177.774507  coffee   \n",
       "2196   99  15  27    27.417112  56.636362  6.086922  127.924610  coffee   \n",
       "2197  118  33  30    24.131797  67.225123  6.362608  173.322839  coffee   \n",
       "2198  117  32  34    26.272418  52.127394  6.758793  127.175293  coffee   \n",
       "2199  104  18  30    23.603016  60.396475  6.779833  140.937041  coffee   \n",
       "\n",
       "      no_label  \n",
       "2195         5  \n",
       "2196         5  \n",
       "2197         5  \n",
       "2198         5  \n",
       "2199         5  "
      ]
     },
     "execution_count": 18,
     "metadata": {},
     "output_type": "execute_result"
    }
   ],
   "source": [
    "crop_data.tail()"
   ]
  },
  {
   "cell_type": "markdown",
   "id": "7012fdbc",
   "metadata": {},
   "source": [
    "## Exploratory Data Analysis (EDA) "
   ]
  },
  {
   "cell_type": "markdown",
   "id": "169cd746",
   "metadata": {},
   "source": [
    "#### 1]  Nitrogen"
   ]
  },
  {
   "cell_type": "code",
   "execution_count": 22,
   "id": "11c4f023",
   "metadata": {},
   "outputs": [
    {
     "data": {
      "image/png": "[encoded data removed]",
      "text/plain": [
       "<Figure size 576x504 with 1 Axes>"
      ]
     },
     "metadata": {
      "needs_background": "light"
     },
     "output_type": "display_data"
    }
   ],
   "source": [
    "plt.figure(figsize=(8,7))\n",
    "sns.histplot(x='N',data=crop_data,color='#79E4E9');\n",
    "plt.title(\"Nitrogen for crops\",{'fontsize':20});"
   ]
  },
  {
   "cell_type": "markdown",
   "id": "c0c722f1",
   "metadata": {},
   "source": [
    "Nitrogen is an essential nutrient for plant growth, development and reproduction.Soil nitrogen exists in three general forms: organic nitrogen compounds, ammonium (NH₄⁺) ions and nitrate (NO₃⁻) ions."
   ]
  },
  {
   "cell_type": "markdown",
   "id": "3c1a0e69",
   "metadata": {},
   "source": [
    "### 2] Potassium"
   ]
  },
  {
   "cell_type": "code",
   "execution_count": 25,
   "id": "8af3296b",
   "metadata": {},
   "outputs": [
    {
     "data": {
      "image/png": "[encoded data removed]",
      "text/plain": [
       "<Figure size 864x504 with 1 Axes>"
      ]
     },
     "metadata": {
      "needs_background": "light"
     },
     "output_type": "display_data"
    }
   ],
   "source": [
    "plt.figure(figsize=(12,7))\n",
    "sns.histplot(x='K',data=crop_data,color='#5FDB86');\n",
    "plt.title(\"Potassium for crops\",{'fontsize':20});"
   ]
  },
  {
   "cell_type": "markdown",
   "id": "01300ec0",
   "metadata": {},
   "source": [
    "Importance of Potassium in Platns:\n",
    "    \n",
    "The rate of respiration by plants is largely the determining factor for proper uptake and transport of potassium by plants.\n",
    "\n",
    "Potassium also facilitates protein and starch synthesis in plants.\n",
    "\n",
    "It activates enzymes responsible for specific functions."
   ]
  },
  {
   "cell_type": "markdown",
   "id": "10cc1ce8",
   "metadata": {},
   "source": [
    "### 3] Phosphorus"
   ]
  },
  {
   "cell_type": "code",
   "execution_count": 32,
   "id": "d77504ed",
   "metadata": {},
   "outputs": [
    {
     "data": {
      "image/png": "[encoded data removed]",
      "text/plain": [
       "<Figure size 576x504 with 1 Axes>"
      ]
     },
     "metadata": {
      "needs_background": "light"
     },
     "output_type": "display_data"
    }
   ],
   "source": [
    "sns.histplot()"
   ]
  },
  {
   "cell_type": "code",
   "execution_count": 36,
   "id": "1117271b",
   "metadata": {},
   "outputs": [
    {
     "data": {
      "text/plain": [
       "Text(0.5, 1.0, 'Phosphorus for crops')"
      ]
     },
     "execution_count": 36,
     "metadata": {},
     "output_type": "execute_result"
    },
    {
     "data": {
      "image/png": "[encoded data removed]",
      "text/plain": [
       "<Figure size 864x432 with 1 Axes>"
      ]
     },
     "metadata": {
      "needs_background": "light"
     },
     "output_type": "display_data"
    }
   ],
   "source": [
    "plt.figure(figsize=(12,6))\n",
    "sns.histplot(x='P',data=crop_data,color='#BA99DC')\n",
    "plt.title(\"Phosphorus for crops\",{'fontsize':15})"
   ]
  },
  {
   "cell_type": "markdown",
   "id": "b40d2879",
   "metadata": {},
   "source": [
    "## Importance of Phosphorus to Plants :\n",
    "    \n",
    "Phosphorus is important for cell division and development of new tissues.\n",
    "\n",
    "Adding phosphrous to plats helps for root growth.\n",
    "\n",
    "It also recomend for early growth of plants."
   ]
  },
  {
   "cell_type": "code",
   "execution_count": 39,
   "id": "4e162ee9",
   "metadata": {},
   "outputs": [
    {
     "data": {
      "text/plain": [
       "Index(['N', 'P', 'K', 'temperature', 'humidity', 'ph', 'rainfall', 'label',\n",
       "       'no_label'],\n",
       "      dtype='object')"
      ]
     },
     "execution_count": 39,
     "metadata": {},
     "output_type": "execute_result"
    }
   ],
   "source": [
    "crop_data.columns"
   ]
  },
  {
   "cell_type": "markdown",
   "id": "d3a00d77",
   "metadata": {},
   "source": [
    "### 4] Temperature"
   ]
  },
  {
   "cell_type": "code",
   "execution_count": 49,
   "id": "b760858c",
   "metadata": {},
   "outputs": [
    {
     "data": {
      "text/plain": [
       "<AxesSubplot:xlabel='temperature', ylabel='Count'>"
      ]
     },
     "execution_count": 49,
     "metadata": {},
     "output_type": "execute_result"
    },
    {
     "data": {
      "image/png": "[encoded data removed]",
      "text/plain": [
       "<Figure size 864x432 with 1 Axes>"
      ]
     },
     "metadata": {
      "needs_background": "light"
     },
     "output_type": "display_data"
    }
   ],
   "source": [
    "plt.figure(figsize=(12,6))\n",
    "sns.histplot(x='temperature',data=crop_data)"
   ]
  },
  {
   "cell_type": "code",
   "execution_count": 54,
   "id": "e0a9197a",
   "metadata": {},
   "outputs": [
    {
     "data": {
      "image/png": "[encoded data removed]",
      "text/plain": [
       "<Figure size 864x504 with 1 Axes>"
      ]
     },
     "metadata": {
      "needs_background": "light"
     },
     "output_type": "display_data"
    }
   ],
   "source": [
    "plt.figure(figsize=(12,7))\n",
    "sns.histplot(x='ph',data=crop_data,color='#9A1CB0');\n",
    "plt.title(\"PH for crops\",{'fontsize':20});"
   ]
  },
  {
   "cell_type": "markdown",
   "id": "e2810d99",
   "metadata": {},
   "source": [
    "pH stands for ‘potential of hydrogen’ and refers to the amount of hydrogen found in the soil.\n",
    "\n",
    "Importance of PH to plamts :\n",
    "pH can affect a plant’s ability to absorb vital nutrients from the soil. If pH is too acidic or alkaline, this can stunt or retard root growth and consequently, restrict water and nutrient uptake.\n",
    "\n"
   ]
  },
  {
   "cell_type": "markdown",
   "id": "d3a50da9",
   "metadata": {},
   "source": [
    "### 7] Rainfall"
   ]
  },
  {
   "cell_type": "code",
   "execution_count": 57,
   "id": "5f34f5eb",
   "metadata": {},
   "outputs": [
    {
     "data": {
      "image/png": "[encoded data removed]",
      "text/plain": [
       "<Figure size 1008x504 with 1 Axes>"
      ]
     },
     "metadata": {
      "needs_background": "light"
     },
     "output_type": "display_data"
    }
   ],
   "source": [
    "plt.figure(figsize=(14,7))\n",
    "sns.histplot(x='rainfall',data=crop_data,color='b');\n",
    "plt.title(\"Rainfall feature\",{'fontsize':20});"
   ]
  },
  {
   "cell_type": "code",
   "execution_count": 86,
   "id": "76d28448",
   "metadata": {},
   "outputs": [],
   "source": [
    "X = crop_data.drop(['label','no_label'],axis=1)\n",
    "y = crop_data.no_label"
   ]
  },
  {
   "cell_type": "code",
   "execution_count": 87,
   "id": "f8426060",
   "metadata": {},
   "outputs": [],
   "source": [
    "X_train,X_test,y_train,y_test = train_test_split(X,y,test_size=0.2)"
   ]
  },
  {
   "cell_type": "code",
   "execution_count": 77,
   "id": "bc4b4b66",
   "metadata": {},
   "outputs": [
    {
     "name": "stdout",
     "output_type": "stream",
     "text": [
      "(1760, 7)\n",
      "(440, 7)\n",
      "(1760,)\n",
      "(440,)\n"
     ]
    }
   ],
   "source": [
    "print(X_train.shape)\n",
    "print(X_test.shape)\n",
    "print(y_train.shape)\n",
    "print(y_test.shape)"
   ]
  },
  {
   "cell_type": "markdown",
   "id": "09d21ab1",
   "metadata": {},
   "source": [
    "## Feature Scaling¶\n"
   ]
  },
  {
   "cell_type": "code",
   "execution_count": 88,
   "id": "6aa8c3cf",
   "metadata": {},
   "outputs": [
    {
     "data": {
      "text/html": [
       "<div>\n",
       "<style scoped>\n",
       "    .dataframe tbody tr th:only-of-type {\n",
       "        vertical-align: middle;\n",
       "    }\n",
       "\n",
       "    .dataframe tbody tr th {\n",
       "        vertical-align: top;\n",
       "    }\n",
       "\n",
       "    .dataframe thead th {\n",
       "        text-align: right;\n",
       "    }\n",
       "</style>\n",
       "<table border=\"1\" class=\"dataframe\">\n",
       "  <thead>\n",
       "    <tr style=\"text-align: right;\">\n",
       "      <th></th>\n",
       "      <th>N</th>\n",
       "      <th>P</th>\n",
       "      <th>K</th>\n",
       "      <th>temperature</th>\n",
       "      <th>humidity</th>\n",
       "      <th>ph</th>\n",
       "      <th>rainfall</th>\n",
       "    </tr>\n",
       "  </thead>\n",
       "  <tbody>\n",
       "    <tr>\n",
       "      <th>1267</th>\n",
       "      <td>40</td>\n",
       "      <td>132</td>\n",
       "      <td>202</td>\n",
       "      <td>24.575584</td>\n",
       "      <td>80.706958</td>\n",
       "      <td>5.971813</td>\n",
       "      <td>69.706113</td>\n",
       "    </tr>\n",
       "    <tr>\n",
       "      <th>971</th>\n",
       "      <td>32</td>\n",
       "      <td>14</td>\n",
       "      <td>37</td>\n",
       "      <td>22.730313</td>\n",
       "      <td>88.485679</td>\n",
       "      <td>6.825256</td>\n",
       "      <td>104.684324</td>\n",
       "    </tr>\n",
       "    <tr>\n",
       "      <th>1872</th>\n",
       "      <td>27</td>\n",
       "      <td>30</td>\n",
       "      <td>31</td>\n",
       "      <td>28.985453</td>\n",
       "      <td>90.739668</td>\n",
       "      <td>5.718120</td>\n",
       "      <td>148.839837</td>\n",
       "    </tr>\n",
       "    <tr>\n",
       "      <th>1773</th>\n",
       "      <td>56</td>\n",
       "      <td>50</td>\n",
       "      <td>52</td>\n",
       "      <td>33.087061</td>\n",
       "      <td>92.251975</td>\n",
       "      <td>6.770385</td>\n",
       "      <td>88.130077</td>\n",
       "    </tr>\n",
       "    <tr>\n",
       "      <th>353</th>\n",
       "      <td>3</td>\n",
       "      <td>77</td>\n",
       "      <td>25</td>\n",
       "      <td>24.849062</td>\n",
       "      <td>22.894646</td>\n",
       "      <td>5.608165</td>\n",
       "      <td>62.212922</td>\n",
       "    </tr>\n",
       "  </tbody>\n",
       "</table>\n",
       "</div>"
      ],
      "text/plain": [
       "       N    P    K  temperature   humidity        ph    rainfall\n",
       "1267  40  132  202    24.575584  80.706958  5.971813   69.706113\n",
       "971   32   14   37    22.730313  88.485679  6.825256  104.684324\n",
       "1872  27   30   31    28.985453  90.739668  5.718120  148.839837\n",
       "1773  56   50   52    33.087061  92.251975  6.770385   88.130077\n",
       "353    3   77   25    24.849062  22.894646  5.608165   62.212922"
      ]
     },
     "execution_count": 88,
     "metadata": {},
     "output_type": "execute_result"
    }
   ],
   "source": [
    "X_train.head()"
   ]
  },
  {
   "cell_type": "code",
   "execution_count": 89,
   "id": "519be81d",
   "metadata": {},
   "outputs": [],
   "source": [
    "scalar = StandardScaler()\n",
    "X_train = scalar.fit_transform(X_train)\n",
    "X_test = scalar.transform(X_test)"
   ]
  },
  {
   "cell_type": "code",
   "execution_count": 90,
   "id": "2e564876",
   "metadata": {},
   "outputs": [
    {
     "name": "stdout",
     "output_type": "stream",
     "text": [
      "Accuracy Score for Logistic Regression is :  97.04545454545455 %\n",
      "Accuracy Score for Random Forest is :  99.31818181818181 %\n",
      "Accuracy Score for Support Vector Machine is :  97.72727272727273 %\n"
     ]
    }
   ],
   "source": [
    "models = {\n",
    "    LogisticRegression(max_iter=500):'Logistic Regression',\n",
    "    RandomForestClassifier():'Random Forest',\n",
    "    SVC():'Support Vector Machine'\n",
    "}\n",
    "for m in models.keys():\n",
    "    m.fit(X_train,y_train)\n",
    "for model,name in models.items():\n",
    "     print(f\"Accuracy Score for {name} is : \",model.score(X_test,y_test)*100,\"%\")"
   ]
  },
  {
   "cell_type": "code",
   "execution_count": 91,
   "id": "a859ffcb",
   "metadata": {},
   "outputs": [
    {
     "data": {
      "text/plain": [
       "RandomForestClassifier()"
      ]
     },
     "execution_count": 91,
     "metadata": {},
     "output_type": "execute_result"
    }
   ],
   "source": [
    "rf = RandomForestClassifier()\n",
    "rf.fit(X_train,y_train)"
   ]
  },
  {
   "cell_type": "code",
   "execution_count": 92,
   "id": "8e96a458",
   "metadata": {},
   "outputs": [],
   "source": [
    "y_pred = rf.predict(X_test)"
   ]
  },
  {
   "cell_type": "code",
   "execution_count": 93,
   "id": "f8b73caf",
   "metadata": {},
   "outputs": [
    {
     "name": "stdout",
     "output_type": "stream",
     "text": [
      "              precision    recall  f1-score   support\n",
      "\n",
      "           0       1.00      1.00      1.00        16\n",
      "           1       1.00      1.00      1.00        16\n",
      "           2       1.00      1.00      1.00        20\n",
      "           3       1.00      1.00      1.00        22\n",
      "           4       1.00      1.00      1.00        22\n",
      "           5       1.00      1.00      1.00        21\n",
      "           6       1.00      1.00      1.00        25\n",
      "           7       1.00      1.00      1.00        21\n",
      "           8       0.94      0.94      0.94        18\n",
      "           9       1.00      1.00      1.00        21\n",
      "          10       1.00      0.95      0.97        19\n",
      "          11       1.00      1.00      1.00        21\n",
      "          12       1.00      1.00      1.00        15\n",
      "          13       0.95      1.00      0.97        18\n",
      "          14       1.00      1.00      1.00        20\n",
      "          15       1.00      1.00      1.00        16\n",
      "          16       1.00      1.00      1.00        18\n",
      "          17       1.00      1.00      1.00        27\n",
      "          18       1.00      1.00      1.00        26\n",
      "          19       1.00      1.00      1.00        17\n",
      "          20       0.94      0.94      0.94        16\n",
      "          21       1.00      1.00      1.00        25\n",
      "\n",
      "    accuracy                           0.99       440\n",
      "   macro avg       0.99      0.99      0.99       440\n",
      "weighted avg       0.99      0.99      0.99       440\n",
      "\n"
     ]
    }
   ],
   "source": [
    "print(classification_report(y_test,y_pred))"
   ]
  },
  {
   "cell_type": "code",
   "execution_count": 94,
   "id": "a8585ac3",
   "metadata": {},
   "outputs": [
    {
     "data": {
      "image/png": "[encoded data removed]",
      "text/plain": [
       "<Figure size 432x288 with 2 Axes>"
      ]
     },
     "metadata": {
      "needs_background": "light"
     },
     "output_type": "display_data"
    }
   ],
   "source": [
    "class_names = np.arange(0,21)\n",
    "fig,ax = plt.subplots()\n",
    "tick_marks = np.arange(len(class_names))\n",
    "plt.xticks(tick_marks,class_names)\n",
    "plt.yticks(tick_marks,class_names)\n",
    "cnf_matrix = confusion_matrix(y_test,y_pred)\n",
    "sns.heatmap(pd.DataFrame(cnf_matrix), annot = True,fmt = 'd')\n",
    "ax.xaxis.set_label_position('top')\n",
    "plt.tight_layout()\n",
    "plt.title(f'Confusion Matrix for Random Forest', {'fontsize':20})\n",
    "plt.ylabel('Actual label')\n",
    "plt.xlabel('Predicted label')\n",
    "plt.show()"
   ]
  },
  {
   "cell_type": "code",
   "execution_count": null,
   "id": "a1263c7c",
   "metadata": {},
   "outputs": [],
   "source": []
  }
 ],
 "metadata": {
  "kernelspec": {
   "display_name": "Python 3 (ipykernel)",
   "language": "python",
   "name": "python3"
  },
  "language_info": {
   "codemirror_mode": {
    "name": "ipython",
    "version": 3
   },
   "file_extension": ".py",
   "mimetype": "text/x-python",
   "name": "python",
   "nbconvert_exporter": "python",
   "pygments_lexer": "ipython3",
   "version": "3.9.7"
  }
 },
 "nbformat": 4,
 "nbformat_minor": 5
}
